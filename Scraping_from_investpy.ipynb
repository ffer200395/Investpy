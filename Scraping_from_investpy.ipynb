{
  "nbformat": 4,
  "nbformat_minor": 0,
  "metadata": {
    "colab": {
      "name": "Scraping from investpy.ipynb",
      "provenance": [],
      "collapsed_sections": []
    },
    "kernelspec": {
      "display_name": "Python 3",
      "name": "python3"
    }
  },
  "cells": [
    {
      "cell_type": "markdown",
      "metadata": {
        "id": "gdFjf_f_5iwQ"
      },
      "source": [
        "Primero necesitamos instalar el paquete investpy e importar las librerías necesarias"
      ]
    },
    {
      "cell_type": "code",
      "metadata": {
        "id": "-KhnWvk2huFB"
      },
      "source": [
        "pip install investpy"
      ],
      "execution_count": null,
      "outputs": []
    },
    {
      "cell_type": "code",
      "metadata": {
        "id": "VDja-A40nn-9"
      },
      "source": [
        "import investpy\n",
        "import pandas as pd\n",
        "from tqdm import tqdm"
      ],
      "execution_count": null,
      "outputs": []
    },
    {
      "cell_type": "markdown",
      "metadata": {
        "id": "-1eu1Wk96Nao"
      },
      "source": [
        "La función “get_hist_data” nos devuelve un diccionario cuyas claves son los símbolos de los productos de una tipología y un país definidos por el usuario y los valores son los dataframes (tablas de datos) asociadas a cada símbolo donde las columnas será el precio de apertura, cierre, máximo,... (a elección del usuario) y cada fila se corresponde con el registro del precio para un día determinado.\n",
        "\n",
        "Para definir la función \"get_hist_data\" hacemos uso de una función auxiliar \"get_symbols_list\", que dado un país y una tipología de producto (fondo, acción, etf) nos devuelve una lista de todos los productos de ese tipo para ese país."
      ]
    },
    {
      "cell_type": "code",
      "metadata": {
        "id": "Irjz3cCCnvvc"
      },
      "source": [
        "def get_hist_data(from_date, to_date, product='stocks', country='spain', ls_cols=['Open', 'High', 'Low', 'Close']):\n",
        "  \"\"\"\n",
        "  It retrieves daily historical data for a product, for a specified country in a specified date range.\n",
        "\n",
        "  Arguments:\n",
        "    from_date (str format: 'dd/mm/yyyy'): starting date for historical data\n",
        "    to_date (str format: 'dd/mm/yyyy'): end date for historical data\n",
        "    product (str): name of the type of poduct we want to retrieve data from, it can be 'stocks', 'funds' or 'etfs'\n",
        "    country (str): country from which we want to retrieve data from\n",
        "    ls_cols (list of str): columns we want to include\n",
        "\n",
        "  Returns:\n",
        "    d_res (dict): dictionary where keys are product symbols and values a dataframe with daily historical data\n",
        "  \"\"\"\n",
        "  # Output\n",
        "  d_res = dict()\n",
        "  # STEP 1: Get all symbols for a type of product from a country\n",
        "  ls_symbols = get_symbols_list(product,country)\n",
        "  # STEP 2: Retrieve and store all historical data\n",
        "  for symbol in tqdm(ls_symbols):\n",
        "    try:\n",
        "      # STEP 3: Try to get historical data for that symbol\n",
        "      if product == 'stocks':\n",
        "        df_hist = investpy.get_stock_historical_data(symbol, country=country, from_date=from_date, to_date=to_date)[ls_cols]\n",
        "      elif product == 'funds':\n",
        "        df_hist = investpy.get_fund_historical_data(symbol, country=country, from_date=from_date, to_date=to_date)[ls_cols]\n",
        "      elif product == 'etfs':\n",
        "        df_hist = investpy.get_etf_historical_data(symbol, country=country, from_date=from_date, to_date=to_date)[ls_cols]\n",
        "    except Exception:\n",
        "      pass\n",
        "    else:\n",
        "      # STEP 4: If it succeeded then check there are no missing values and assign df_hist to its corresponding symbol\n",
        "      if df_hist.isnull().values.any() == False:\n",
        "        d_res[symbol] = df_hist\n",
        "  return d_res\n",
        "\n",
        "def get_symbols_list(product, country):\n",
        "  \"\"\"\n",
        "  It returns symbols that are needed to find historical data for\n",
        "\n",
        "  Arguments:\n",
        "    product (str): name of the type of poduct, it can be 'stocks', 'funds' or 'etfs'\n",
        "    country (str): country from which we want to retrieve data from\n",
        "\n",
        "  Returns:\n",
        "    list of symbols (str) for a type of product from a specified country\n",
        "  \"\"\"\n",
        "  if product == 'stocks':\n",
        "    return investpy.get_stocks_list(country=country)\n",
        "  elif product == 'funds':\n",
        "    return investpy.get_funds_list(country=country)\n",
        "  elif product == 'etfs':\n",
        "    return investpy.get_etfs_list(country=country)"
      ],
      "execution_count": null,
      "outputs": []
    },
    {
      "cell_type": "markdown",
      "metadata": {
        "id": "kEcrZkcJ9RTm"
      },
      "source": [
        "Si quisiéramos obtener el histórico de acciones españolas desde el 1 de enero de 2020 al 1 de febrero de 2021 llamamos a la función \"get_hist_data\", tal y como se observa a continuación."
      ]
    },
    {
      "cell_type": "code",
      "metadata": {
        "colab": {
          "base_uri": "https://localhost:8080/"
        },
        "id": "zexOtoILXqvz",
        "outputId": "227832bf-ce76-418d-b1fd-0c9821a60ae8"
      },
      "source": [
        "d_stocks = get_hist_data('01/01/2020', '01/02/2021', product='stocks', country='spain', ls_cols=['Open', 'High', 'Low', 'Close'])"
      ],
      "execution_count": null,
      "outputs": [
        {
          "output_type": "stream",
          "text": [
            "100%|██████████| 234/234 [01:27<00:00,  2.67it/s]\n"
          ],
          "name": "stderr"
        }
      ]
    },
    {
      "cell_type": "markdown",
      "metadata": {
        "id": "IVwdjItS-cfk"
      },
      "source": [
        "La estructura de diccionario es útil ya que permite manipular los datos accediendo a la clave y comenzar a tratar los datos para la predicción.\n",
        "\n",
        "Aquí vemos el histórico asociado a la clave BBVA, es decir, para la acción BBVA comercializada en España vemos los precios históricos diarios de apertura, cierre, máximo y mínimo."
      ]
    },
    {
      "cell_type": "code",
      "metadata": {
        "colab": {
          "base_uri": "https://localhost:8080/",
          "height": 450
        },
        "id": "UevO3BW--ds8",
        "outputId": "567ec828-7e2f-42b1-f18f-fce0bc6ed756"
      },
      "source": [
        "d_stocks['BBVA']"
      ],
      "execution_count": null,
      "outputs": [
        {
          "output_type": "execute_result",
          "data": {
            "text/html": [
              "<div>\n",
              "<style scoped>\n",
              "    .dataframe tbody tr th:only-of-type {\n",
              "        vertical-align: middle;\n",
              "    }\n",
              "\n",
              "    .dataframe tbody tr th {\n",
              "        vertical-align: top;\n",
              "    }\n",
              "\n",
              "    .dataframe thead th {\n",
              "        text-align: right;\n",
              "    }\n",
              "</style>\n",
              "<table border=\"1\" class=\"dataframe\">\n",
              "  <thead>\n",
              "    <tr style=\"text-align: right;\">\n",
              "      <th></th>\n",
              "      <th>Open</th>\n",
              "      <th>High</th>\n",
              "      <th>Low</th>\n",
              "      <th>Close</th>\n",
              "    </tr>\n",
              "    <tr>\n",
              "      <th>Date</th>\n",
              "      <th></th>\n",
              "      <th></th>\n",
              "      <th></th>\n",
              "      <th></th>\n",
              "    </tr>\n",
              "  </thead>\n",
              "  <tbody>\n",
              "    <tr>\n",
              "      <th>2020-01-02</th>\n",
              "      <td>5.031</td>\n",
              "      <td>5.124</td>\n",
              "      <td>5.021</td>\n",
              "      <td>5.110</td>\n",
              "    </tr>\n",
              "    <tr>\n",
              "      <th>2020-01-03</th>\n",
              "      <td>5.078</td>\n",
              "      <td>5.078</td>\n",
              "      <td>5.016</td>\n",
              "      <td>5.054</td>\n",
              "    </tr>\n",
              "    <tr>\n",
              "      <th>2020-01-06</th>\n",
              "      <td>5.000</td>\n",
              "      <td>5.039</td>\n",
              "      <td>4.944</td>\n",
              "      <td>5.032</td>\n",
              "    </tr>\n",
              "    <tr>\n",
              "      <th>2020-01-07</th>\n",
              "      <td>5.051</td>\n",
              "      <td>5.079</td>\n",
              "      <td>4.983</td>\n",
              "      <td>5.010</td>\n",
              "    </tr>\n",
              "    <tr>\n",
              "      <th>2020-01-08</th>\n",
              "      <td>4.968</td>\n",
              "      <td>5.069</td>\n",
              "      <td>4.961</td>\n",
              "      <td>5.058</td>\n",
              "    </tr>\n",
              "    <tr>\n",
              "      <th>...</th>\n",
              "      <td>...</td>\n",
              "      <td>...</td>\n",
              "      <td>...</td>\n",
              "      <td>...</td>\n",
              "    </tr>\n",
              "    <tr>\n",
              "      <th>2021-01-26</th>\n",
              "      <td>3.912</td>\n",
              "      <td>3.976</td>\n",
              "      <td>3.891</td>\n",
              "      <td>3.944</td>\n",
              "    </tr>\n",
              "    <tr>\n",
              "      <th>2021-01-27</th>\n",
              "      <td>3.945</td>\n",
              "      <td>3.962</td>\n",
              "      <td>3.788</td>\n",
              "      <td>3.835</td>\n",
              "    </tr>\n",
              "    <tr>\n",
              "      <th>2021-01-28</th>\n",
              "      <td>3.782</td>\n",
              "      <td>3.956</td>\n",
              "      <td>3.782</td>\n",
              "      <td>3.941</td>\n",
              "    </tr>\n",
              "    <tr>\n",
              "      <th>2021-01-29</th>\n",
              "      <td>3.883</td>\n",
              "      <td>3.908</td>\n",
              "      <td>3.767</td>\n",
              "      <td>3.767</td>\n",
              "    </tr>\n",
              "    <tr>\n",
              "      <th>2021-02-01</th>\n",
              "      <td>3.846</td>\n",
              "      <td>3.848</td>\n",
              "      <td>3.736</td>\n",
              "      <td>3.758</td>\n",
              "    </tr>\n",
              "  </tbody>\n",
              "</table>\n",
              "<p>278 rows × 4 columns</p>\n",
              "</div>"
            ],
            "text/plain": [
              "             Open   High    Low  Close\n",
              "Date                                  \n",
              "2020-01-02  5.031  5.124  5.021  5.110\n",
              "2020-01-03  5.078  5.078  5.016  5.054\n",
              "2020-01-06  5.000  5.039  4.944  5.032\n",
              "2020-01-07  5.051  5.079  4.983  5.010\n",
              "2020-01-08  4.968  5.069  4.961  5.058\n",
              "...           ...    ...    ...    ...\n",
              "2021-01-26  3.912  3.976  3.891  3.944\n",
              "2021-01-27  3.945  3.962  3.788  3.835\n",
              "2021-01-28  3.782  3.956  3.782  3.941\n",
              "2021-01-29  3.883  3.908  3.767  3.767\n",
              "2021-02-01  3.846  3.848  3.736  3.758\n",
              "\n",
              "[278 rows x 4 columns]"
            ]
          },
          "metadata": {
            "tags": []
          },
          "execution_count": 6
        }
      ]
    },
    {
      "cell_type": "markdown",
      "metadata": {
        "id": "27HH2vycClf-"
      },
      "source": [
        "La función “get_hist_df_data” nos permitirá poner todos los datos en un mismo dataframe no sólo diarios sino también por media semanal o mensual (a elección del usuario), posteriormente este dataframe puede ser exportado a csv para poder ser importado en excel."
      ]
    },
    {
      "cell_type": "code",
      "metadata": {
        "id": "lMJW1z1Q8_B0"
      },
      "source": [
        "def get_hist_df_data(d_hist,resample=None):\n",
        "  \"\"\"\n",
        "  It transforms a dictionary containing historical data for different items into a single dataframe indexed by time\n",
        "\n",
        "  Arguments:\n",
        "    d_hist (dict): dictionary where keys are product symbols and values a dataframe with daily historical data\n",
        "    resample (str): 'W' if we want our historical data to be resampled by weekly mean, 'M' for monthly mean, if None it keeps being daily\n",
        "\n",
        "  Returns:\n",
        "    dataframe: containing all historical prices for all products\n",
        "  \"\"\"\n",
        "  ls_df = []\n",
        "  # For every symbol\n",
        "  for symbol, df in d_hist.items():\n",
        "    # Cast its index inta a datetime index\n",
        "    df.index=pd.to_datetime(df.index)\n",
        "    # If specified daily data will be converted into weekly or monthly\n",
        "    if resample!=None:\n",
        "      df=df.resample(resample).mean()\n",
        "    # Symbol is included as an extra column\n",
        "    df['Symbol'] = symbol\n",
        "    # Transformed dataframe is added to df list\n",
        "    ls_df.append(df)\n",
        "  return pd.concat(ls_df)"
      ],
      "execution_count": null,
      "outputs": []
    },
    {
      "cell_type": "markdown",
      "metadata": {
        "id": "A62RphQ4C39Y"
      },
      "source": [
        "Siguiendo el ejemplo de las acciones de España, usamos el diccionario \"d_stocks\" como argumento de la función \"get_hist_df_data\", y si queremos los datos agregados por su media semanal lo indicamos con 'W'."
      ]
    },
    {
      "cell_type": "code",
      "metadata": {
        "id": "vFl9Q7e5huFU"
      },
      "source": [
        "df_stocks_w = get_hist_df_data(d_stocks,'W')"
      ],
      "execution_count": null,
      "outputs": []
    },
    {
      "cell_type": "markdown",
      "metadata": {
        "id": "PQWbWt35D7Dq"
      },
      "source": [
        "A continuación podemos observar los primeros registros de los precios históricos de todas las acciones de España agregados semanalmente."
      ]
    },
    {
      "cell_type": "code",
      "metadata": {
        "colab": {
          "base_uri": "https://localhost:8080/",
          "height": 235
        },
        "id": "a50w-tNhFLp_",
        "outputId": "33115716-8713-49ea-e04f-a6785de1a6dd"
      },
      "source": [
        "df_stocks_w.head()"
      ],
      "execution_count": null,
      "outputs": [
        {
          "output_type": "execute_result",
          "data": {
            "text/html": [
              "<div>\n",
              "<style scoped>\n",
              "    .dataframe tbody tr th:only-of-type {\n",
              "        vertical-align: middle;\n",
              "    }\n",
              "\n",
              "    .dataframe tbody tr th {\n",
              "        vertical-align: top;\n",
              "    }\n",
              "\n",
              "    .dataframe thead th {\n",
              "        text-align: right;\n",
              "    }\n",
              "</style>\n",
              "<table border=\"1\" class=\"dataframe\">\n",
              "  <thead>\n",
              "    <tr style=\"text-align: right;\">\n",
              "      <th></th>\n",
              "      <th>Open</th>\n",
              "      <th>High</th>\n",
              "      <th>Low</th>\n",
              "      <th>Close</th>\n",
              "      <th>Symbol</th>\n",
              "    </tr>\n",
              "    <tr>\n",
              "      <th>Date</th>\n",
              "      <th></th>\n",
              "      <th></th>\n",
              "      <th></th>\n",
              "      <th></th>\n",
              "      <th></th>\n",
              "    </tr>\n",
              "  </thead>\n",
              "  <tbody>\n",
              "    <tr>\n",
              "      <th>2020-01-05</th>\n",
              "      <td>35.470</td>\n",
              "      <td>35.500</td>\n",
              "      <td>34.860</td>\n",
              "      <td>34.975</td>\n",
              "      <td>ACS</td>\n",
              "    </tr>\n",
              "    <tr>\n",
              "      <th>2020-01-12</th>\n",
              "      <td>34.698</td>\n",
              "      <td>34.868</td>\n",
              "      <td>34.276</td>\n",
              "      <td>34.472</td>\n",
              "      <td>ACS</td>\n",
              "    </tr>\n",
              "    <tr>\n",
              "      <th>2020-01-19</th>\n",
              "      <td>34.142</td>\n",
              "      <td>34.556</td>\n",
              "      <td>33.794</td>\n",
              "      <td>34.146</td>\n",
              "      <td>ACS</td>\n",
              "    </tr>\n",
              "    <tr>\n",
              "      <th>2020-01-26</th>\n",
              "      <td>33.542</td>\n",
              "      <td>33.782</td>\n",
              "      <td>33.088</td>\n",
              "      <td>33.242</td>\n",
              "      <td>ACS</td>\n",
              "    </tr>\n",
              "    <tr>\n",
              "      <th>2020-02-02</th>\n",
              "      <td>31.506</td>\n",
              "      <td>31.670</td>\n",
              "      <td>30.864</td>\n",
              "      <td>31.198</td>\n",
              "      <td>ACS</td>\n",
              "    </tr>\n",
              "  </tbody>\n",
              "</table>\n",
              "</div>"
            ],
            "text/plain": [
              "              Open    High     Low   Close Symbol\n",
              "Date                                             \n",
              "2020-01-05  35.470  35.500  34.860  34.975    ACS\n",
              "2020-01-12  34.698  34.868  34.276  34.472    ACS\n",
              "2020-01-19  34.142  34.556  33.794  34.146    ACS\n",
              "2020-01-26  33.542  33.782  33.088  33.242    ACS\n",
              "2020-02-02  31.506  31.670  30.864  31.198    ACS"
            ]
          },
          "metadata": {
            "tags": []
          },
          "execution_count": 9
        }
      ]
    },
    {
      "cell_type": "markdown",
      "metadata": {
        "id": "eBeEWhTtGXTR"
      },
      "source": [
        "Para exportar los datos históricos a csv simplemente tenemos que:"
      ]
    },
    {
      "cell_type": "code",
      "metadata": {
        "id": "FXeOeAI3Ox8L"
      },
      "source": [
        "# Exportar a csv\n",
        "df_stocks_w.to_csv('stocks_spain_weekly.csv',sep=';')"
      ],
      "execution_count": null,
      "outputs": []
    },
    {
      "cell_type": "markdown",
      "metadata": {
        "id": "YELuZ4h2dR3T"
      },
      "source": [
        "El siguiente apartado es para la visualización del número de productos en cada país"
      ]
    },
    {
      "cell_type": "code",
      "metadata": {
        "id": "K6ryg8YeJpeT"
      },
      "source": [
        "from collections import Counter\n",
        "import matplotlib.pyplot as plt\n",
        "import seaborn as sns\n",
        "\n",
        "# Se obtienen el número de productos de cada tipo por país\n",
        "paises_fondos = dict(Counter(investpy.get_funds()['country']))\n",
        "paises_acciones = dict(Counter(investpy.get_stocks()['country']))\n",
        "paises_etfs = dict(Counter(investpy.get_etfs()['country']))\n",
        "\n",
        "# Definimos una función que nos permita visualizar\n",
        "def get_bars(dicc,min_prod):\n",
        "  \"\"\"\n",
        "  Recibe:\n",
        "    -dicc: Un diccionario donde la clave es el país y el valor el número de productos.\n",
        "    -min_prod: El número mínimo de productos que un país debe tener para que sea mostrado\n",
        "  \"\"\"\n",
        "  # Filtramos los países\n",
        "  d_filtered = {x: count for x, count in dicc.items() if count >= min_prod}\n",
        "  # Mostramos el grśfico de barras\n",
        "  plt.figure(figsize=(15,8))\n",
        "  plt.title(f'Países con más de {min_prod} productos')\n",
        "  sns.barplot(x=list(d_filtered.keys()), y=list(d_filtered.values()))"
      ],
      "execution_count": null,
      "outputs": []
    },
    {
      "cell_type": "code",
      "metadata": {
        "colab": {
          "base_uri": "https://localhost:8080/",
          "height": 499
        },
        "id": "7rH6vq8CXatJ",
        "outputId": "4d012120-2d8e-444a-8c93-b28c70f78238"
      },
      "source": [
        "# Si quisiésemos ver cuales son los países que tienen más de 2.000 acciones tendriamos que:\n",
        "get_bars(paises_acciones,2000)"
      ],
      "execution_count": null,
      "outputs": [
        {
          "output_type": "display_data",
          "data": {
            "image/png": "[encoded data removed]",
            "text/plain": [
              "<Figure size 1080x576 with 1 Axes>"
            ]
          },
          "metadata": {
            "tags": [],
            "needs_background": "light"
          }
        }
      ]
    }
  ]
}